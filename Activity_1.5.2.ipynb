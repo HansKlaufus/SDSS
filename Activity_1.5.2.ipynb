{
 "cells": [
  {
   "cell_type": "markdown",
   "metadata": {},
   "source": [
    "# Activity 1.5.2 "
   ]
  },
  {
   "cell_type": "markdown",
   "metadata": {},
   "source": [
    "Import libraries:"
   ]
  },
  {
   "cell_type": "code",
   "execution_count": 1,
   "metadata": {
    "collapsed": true
   },
   "outputs": [],
   "source": [
    "import math\n",
    "import numpy as np\n",
    "import pandas as pd\n",
    "import matplotlib.pyplot as plt"
   ]
  },
  {
   "cell_type": "markdown",
   "metadata": {},
   "source": [
    "## Object 1"
   ]
  },
  {
   "cell_type": "markdown",
   "metadata": {},
   "source": [
    "Import csv-file:"
   ]
  },
  {
   "cell_type": "code",
   "execution_count": 2,
   "metadata": {
    "collapsed": true
   },
   "outputs": [],
   "source": [
    "# Read the data file into a dataframe using pandas\n",
    "dataframe = pd.read_csv('./Activity1.5.2/Object1.csv')"
   ]
  },
  {
   "cell_type": "markdown",
   "metadata": {},
   "source": [
    "Plot data:"
   ]
  },
  {
   "cell_type": "code",
   "execution_count": 3,
   "metadata": {
    "collapsed": false
   },
   "outputs": [],
   "source": [
    "# Plot graph using matplotlib\n",
    "fig = plt.figure()\n",
    "\n",
    "ax0 = fig.add_subplot(1, 1, 1)\n",
    "\n",
    "ax0.plot(dataframe['Wavelength'], dataframe['BestFit'], color='blue', linewidth = 1)\n",
    "\n",
    "ax0.set_xlabel('$\\lambda / \\AA$')\n",
    "ax0.set_ylabel('$f_{\\lambda}$')\n",
    "\n",
    "ax0.set_title('Object 1')\n",
    "\n",
    "plt.show()"
   ]
  },
  {
   "cell_type": "markdown",
   "metadata": {},
   "source": [
    "## Object 2"
   ]
  },
  {
   "cell_type": "markdown",
   "metadata": {},
   "source": [
    "Import csv-file:"
   ]
  },
  {
   "cell_type": "code",
   "execution_count": 4,
   "metadata": {
    "collapsed": true
   },
   "outputs": [],
   "source": [
    "# Read the data file into a dataframe using pandas\n",
    "dataframe = pd.read_csv('./Activity1.5.2/Object2.csv')"
   ]
  },
  {
   "cell_type": "markdown",
   "metadata": {},
   "source": [
    "Plot data:"
   ]
  },
  {
   "cell_type": "code",
   "execution_count": 5,
   "metadata": {
    "collapsed": true
   },
   "outputs": [],
   "source": [
    "# Plot graph using matplotlib\n",
    "fig = plt.figure()\n",
    "\n",
    "ax0 = fig.add_subplot(1, 1, 1)\n",
    "\n",
    "ax0.plot(dataframe['Wavelength'], dataframe['BestFit'], color='blue', linewidth = 1)\n",
    "\n",
    "ax0.set_xlabel('$\\lambda / \\AA$')\n",
    "ax0.set_ylabel('$f_{\\lambda}$')\n",
    "\n",
    "ax0.set_title('Object 2')\n",
    "\n",
    "plt.show()"
   ]
  },
  {
   "cell_type": "markdown",
   "metadata": {},
   "source": [
    "### Distance"
   ]
  },
  {
   "cell_type": "markdown",
   "metadata": {},
   "source": [
    "Redshift is given: z = 0.006.\n",
    "Using Hubble's law:"
   ]
  },
  {
   "cell_type": "code",
   "execution_count": 6,
   "metadata": {
    "collapsed": false
   },
   "outputs": [
    {
     "name": "stdout",
     "output_type": "stream",
     "text": [
      "d = 25 MPc\n"
     ]
    }
   ],
   "source": [
    "z = 0.006 # Redshift\n",
    "H0 = 72 # Hubble's constant, km s^-1 Mpc^-1\n",
    "c = 2.998E8 # Speed of light, m s^-1\n",
    "d = 0.001 * c/H0*z\n",
    "\n",
    "print('d = {0:.3G} MPc'.format(d))"
   ]
  },
  {
   "cell_type": "markdown",
   "metadata": {},
   "source": [
    "### Diameter"
   ]
  },
  {
   "cell_type": "markdown",
   "metadata": {},
   "source": [
    "From zoomed in picture, we measure a angular diameter of approx. 2''"
   ]
  },
  {
   "cell_type": "code",
   "execution_count": 7,
   "metadata": {
    "collapsed": false
   },
   "outputs": [
    {
     "name": "stdout",
     "output_type": "stream",
     "text": [
      "r = 0.000242 MPc\n"
     ]
    }
   ],
   "source": [
    "a1 = 2/3600 # deg\n",
    "a2 = a1 * math.pi/180 # rad\n",
    "r = a2*d # MPc\n",
    "\n",
    "print('r = {0:.3G} MPc'.format(r))"
   ]
  }
 ],
 "metadata": {
  "kernelspec": {
   "display_name": "Python 3",
   "language": "python",
   "name": "python3"
  },
  "language_info": {
   "codemirror_mode": {
    "name": "ipython",
    "version": 3
   },
   "file_extension": ".py",
   "mimetype": "text/x-python",
   "name": "python",
   "nbconvert_exporter": "python",
   "pygments_lexer": "ipython3",
   "version": "3.4.3"
  }
 },
 "nbformat": 4,
 "nbformat_minor": 0
}
