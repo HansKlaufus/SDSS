{
 "cells": [
  {
   "cell_type": "markdown",
   "metadata": {},
   "source": [
    "# Colour-Colour Plot"
   ]
  },
  {
   "cell_type": "markdown",
   "metadata": {},
   "source": [
    "Import libraries:"
   ]
  },
  {
   "cell_type": "code",
   "execution_count": 13,
   "metadata": {
    "collapsed": true
   },
   "outputs": [],
   "source": [
    "import math\n",
    "import numpy as np\n",
    "import pandas as pd\n",
    "import matplotlib.pyplot as plt\n",
    "import matplotlib.ticker as tic"
   ]
  },
  {
   "cell_type": "markdown",
   "metadata": {},
   "source": [
    "Import stellar information:"
   ]
  },
  {
   "cell_type": "code",
   "execution_count": 14,
   "metadata": {
    "collapsed": false
   },
   "outputs": [],
   "source": [
    "# Read the data file into a dataframe using pandas\n",
    "stellarData = pd.read_csv('./Activity2.5.1/query.csv', skiprows=1)"
   ]
  },
  {
   "cell_type": "markdown",
   "metadata": {},
   "source": [
    "Calculate (g-r) and (u-g):"
   ]
  },
  {
   "cell_type": "code",
   "execution_count": 15,
   "metadata": {
    "collapsed": true
   },
   "outputs": [],
   "source": [
    "stellarData['(g-r)'] = stellarData['g'] - stellarData['r']\n",
    "stellarData['(u-g)'] = stellarData['u'] - stellarData['g']"
   ]
  },
  {
   "cell_type": "markdown",
   "metadata": {},
   "source": [
    "Import QSO information:"
   ]
  },
  {
   "cell_type": "code",
   "execution_count": 16,
   "metadata": {
    "collapsed": true
   },
   "outputs": [],
   "source": [
    "# Read the data file into a dataframe using pandas\n",
    "qsoData = pd.read_csv('./Activity2.5.2/QSO_1000_DR12.txt')"
   ]
  },
  {
   "cell_type": "markdown",
   "metadata": {},
   "source": [
    "Calculate (g-r) and (u-g):"
   ]
  },
  {
   "cell_type": "code",
   "execution_count": 17,
   "metadata": {
    "collapsed": true
   },
   "outputs": [],
   "source": [
    "qsoData['(g-r)'] = qsoData['g'] - qsoData['r']\n",
    "qsoData['(u-g)'] = qsoData['u'] - qsoData['g']"
   ]
  },
  {
   "cell_type": "markdown",
   "metadata": {},
   "source": [
    "Plot the spectrum:"
   ]
  },
  {
   "cell_type": "code",
   "execution_count": 20,
   "metadata": {
    "collapsed": false
   },
   "outputs": [],
   "source": [
    "# Plot graph using matplotlib\n",
    "fig = plt.figure()\n",
    "\n",
    "ax0 = fig.add_subplot(1, 1, 1)\n",
    "\n",
    "ax0.scatter(stellarData['(g-r)'], stellarData['(u-g)'], color='blue', linewidth = 1)\n",
    "ax0.scatter(qsoData['(g-r)'], qsoData['(u-g)'], color='red', linewidth = 1)\n",
    "\n",
    "ax0.set_xlim(-1.0, 3.5)\n",
    "ax0.set_ylim(-1.0, 6.0)\n",
    "\n",
    "ax0.set_xlabel('$(g - r)$')\n",
    "ax0.set_ylabel('$(u - g)$')\n",
    "\n",
    "ax0.set_title('Colour-Colour Diagram')\n",
    "\n",
    "ax0.grid(True)\n",
    "\n",
    "# Set both ticks to be outside\n",
    "ax0.tick_params(which = 'both', direction = 'out')\n",
    "\n",
    "plt.show()"
   ]
  }
 ],
 "metadata": {
  "kernelspec": {
   "display_name": "Python 3",
   "language": "python",
   "name": "python3"
  },
  "language_info": {
   "codemirror_mode": {
    "name": "ipython",
    "version": 3
   },
   "file_extension": ".py",
   "mimetype": "text/x-python",
   "name": "python",
   "nbconvert_exporter": "python",
   "pygments_lexer": "ipython3",
   "version": "3.4.3"
  }
 },
 "nbformat": 4,
 "nbformat_minor": 0
}
