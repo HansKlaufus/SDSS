{
 "cells": [
  {
   "cell_type": "markdown",
   "metadata": {},
   "source": [
    "# Activity 3.2.3 – The redshift distribution of QSOs in the SDSS"
   ]
  },
  {
   "cell_type": "markdown",
   "metadata": {},
   "source": [
    "Import libraries:"
   ]
  },
  {
   "cell_type": "code",
   "execution_count": 1,
   "metadata": {
    "collapsed": true
   },
   "outputs": [],
   "source": [
    "import math\n",
    "import numpy as np\n",
    "import pandas as pd\n",
    "import matplotlib.pyplot as plt\n",
    "import matplotlib.ticker as tic"
   ]
  },
  {
   "cell_type": "markdown",
   "metadata": {},
   "source": [
    "## Method 1"
   ]
  },
  {
   "cell_type": "markdown",
   "metadata": {},
   "source": [
    "First we write a small python routine so we can create a suitable SQL query based on the desired number of bins we want:"
   ]
  },
  {
   "cell_type": "code",
   "execution_count": 17,
   "metadata": {
    "collapsed": false
   },
   "outputs": [
    {
     "name": "stdout",
     "output_type": "stream",
     "text": [
      "SELECT temp.bin, COUNT(*)\n",
      "FROM (\n",
      "  SELECT CASE\n",
      "    WHEN z BETWEEN 0.00 and 0.07 THEN '0.04'\n",
      "    WHEN z BETWEEN 0.07 and 0.14 THEN '0.11'\n",
      "    WHEN z BETWEEN 0.14 and 0.21 THEN '0.18'\n",
      "    WHEN z BETWEEN 0.21 and 0.28 THEN '0.25'\n",
      "    WHEN z BETWEEN 0.28 and 0.35 THEN '0.32'\n",
      "    WHEN z BETWEEN 0.35 and 0.42 THEN '0.39'\n",
      "    WHEN z BETWEEN 0.42 and 0.49 THEN '0.46'\n",
      "    WHEN z BETWEEN 0.49 and 0.56 THEN '0.53'\n",
      "    WHEN z BETWEEN 0.56 and 0.63 THEN '0.60'\n",
      "    WHEN z BETWEEN 0.63 and 0.70 THEN '0.67'\n",
      "    WHEN z BETWEEN 0.70 and 0.77 THEN '0.74'\n",
      "    WHEN z BETWEEN 0.77 and 0.84 THEN '0.81'\n",
      "    WHEN z BETWEEN 0.84 and 0.91 THEN '0.88'\n",
      "    WHEN z BETWEEN 0.91 and 0.98 THEN '0.95'\n",
      "    WHEN z BETWEEN 0.98 and 1.05 THEN '1.02'\n",
      "    WHEN z BETWEEN 1.05 and 1.12 THEN '1.08'\n",
      "    WHEN z BETWEEN 1.12 and 1.19 THEN '1.16'\n",
      "    WHEN z BETWEEN 1.19 and 1.26 THEN '1.23'\n",
      "    WHEN z BETWEEN 1.26 and 1.33 THEN '1.30'\n",
      "    WHEN z BETWEEN 1.33 and 1.40 THEN '1.37'\n",
      "    WHEN z BETWEEN 1.40 and 1.47 THEN '1.44'\n",
      "    WHEN z BETWEEN 1.47 and 1.54 THEN '1.51'\n",
      "    WHEN z BETWEEN 1.54 and 1.61 THEN '1.58'\n",
      "    WHEN z BETWEEN 1.61 and 1.68 THEN '1.65'\n",
      "    WHEN z BETWEEN 1.68 and 1.75 THEN '1.72'\n",
      "    WHEN z BETWEEN 1.75 and 1.82 THEN '1.79'\n",
      "    WHEN z BETWEEN 1.82 and 1.89 THEN '1.86'\n",
      "    WHEN z BETWEEN 1.89 and 1.96 THEN '1.93'\n",
      "    WHEN z BETWEEN 1.96 and 2.03 THEN '2.00'\n",
      "    WHEN z BETWEEN 2.03 and 2.10 THEN '2.07'\n",
      "    WHEN z BETWEEN 2.10 and 2.17 THEN '2.14'\n",
      "    WHEN z BETWEEN 2.17 and 2.24 THEN '2.21'\n",
      "    WHEN z BETWEEN 2.24 and 2.31 THEN '2.28'\n",
      "    WHEN z BETWEEN 2.31 and 2.38 THEN '2.35'\n",
      "    WHEN z BETWEEN 2.38 and 2.45 THEN '2.42'\n",
      "    WHEN z BETWEEN 2.45 and 2.52 THEN '2.49'\n",
      "    WHEN z BETWEEN 2.52 and 2.59 THEN '2.56'\n",
      "    WHEN z BETWEEN 2.59 and 2.66 THEN '2.62'\n",
      "    WHEN z BETWEEN 2.66 and 2.73 THEN '2.70'\n",
      "    WHEN z BETWEEN 2.73 and 2.80 THEN '2.77'\n",
      "    WHEN z BETWEEN 2.80 and 2.87 THEN '2.83'\n",
      "    WHEN z BETWEEN 2.87 and 2.94 THEN '2.91'\n",
      "    WHEN z BETWEEN 2.94 and 3.01 THEN '2.98'\n",
      "    WHEN z BETWEEN 3.01 and 3.08 THEN '3.04'\n",
      "    WHEN z BETWEEN 3.08 and 3.15 THEN '3.12'\n",
      "    WHEN z BETWEEN 3.15 and 3.22 THEN '3.19'\n",
      "    WHEN z BETWEEN 3.22 and 3.29 THEN '3.26'\n",
      "    WHEN z BETWEEN 3.29 and 3.36 THEN '3.33'\n",
      "    WHEN z BETWEEN 3.36 and 3.43 THEN '3.40'\n",
      "    WHEN z BETWEEN 3.43 and 3.50 THEN '3.47'\n",
      "    WHEN z BETWEEN 3.50 and 3.57 THEN '3.54'\n",
      "    WHEN z BETWEEN 3.57 and 3.64 THEN '3.61'\n",
      "    WHEN z BETWEEN 3.64 and 3.71 THEN '3.68'\n",
      "    WHEN z BETWEEN 3.71 and 3.78 THEN '3.75'\n",
      "    WHEN z BETWEEN 3.78 and 3.85 THEN '3.82'\n",
      "    WHEN z BETWEEN 3.85 and 3.92 THEN '3.89'\n",
      "    WHEN z BETWEEN 3.92 and 3.99 THEN '3.96'\n",
      "    WHEN z BETWEEN 3.99 and 4.06 THEN '4.03'\n",
      "    WHEN z BETWEEN 4.06 and 4.13 THEN '4.10'\n",
      "    WHEN z BETWEEN 4.13 and 4.20 THEN '4.17'\n",
      "    WHEN z BETWEEN 4.20 and 4.27 THEN '4.24'\n",
      "    WHEN z BETWEEN 4.27 and 4.34 THEN '4.31'\n",
      "    WHEN z BETWEEN 4.34 and 4.41 THEN '4.38'\n",
      "    WHEN z BETWEEN 4.41 and 4.48 THEN '4.45'\n",
      "    WHEN z BETWEEN 4.48 and 4.55 THEN '4.52'\n",
      "    WHEN z BETWEEN 4.55 and 4.62 THEN '4.59'\n",
      "    WHEN z BETWEEN 4.62 and 4.69 THEN '4.66'\n",
      "    WHEN z BETWEEN 4.69 and 4.76 THEN '4.73'\n",
      "    WHEN z BETWEEN 4.76 and 4.83 THEN '4.79'\n",
      "    WHEN z BETWEEN 4.83 and 4.90 THEN '4.87'\n",
      "    WHEN z BETWEEN 4.90 and 4.97 THEN '4.94'\n",
      "    WHEN z BETWEEN 4.97 and 5.04 THEN '5.01'\n",
      "    WHEN z BETWEEN 5.04 and 5.11 THEN '5.08'\n",
      "    WHEN z BETWEEN 5.11 and 5.18 THEN '5.15'\n",
      "    WHEN z BETWEEN 5.18 and 5.25 THEN '5.22'\n",
      "    WHEN z BETWEEN 5.25 and 5.32 THEN '5.29'\n",
      "    WHEN z BETWEEN 5.32 and 5.39 THEN '5.36'\n",
      "    WHEN z BETWEEN 5.39 and 5.46 THEN '5.43'\n",
      "    WHEN z BETWEEN 5.46 and 5.53 THEN '5.50'\n",
      "    WHEN z BETWEEN 5.53 and 5.60 THEN '5.57'\n",
      "    WHEN z BETWEEN 5.60 and 5.67 THEN '5.64'\n",
      "    WHEN z BETWEEN 5.67 and 5.74 THEN '5.71'\n",
      "    WHEN z BETWEEN 5.74 and 5.81 THEN '5.78'\n",
      "    WHEN z BETWEEN 5.81 and 5.88 THEN '5.85'\n",
      "    WHEN z BETWEEN 5.88 and 5.95 THEN '5.92'\n",
      "    WHEN z BETWEEN 5.95 and 6.02 THEN '5.99'\n",
      "    WHEN z BETWEEN 6.02 and 6.09 THEN '6.06'\n",
      "    WHEN z BETWEEN 6.09 and 6.16 THEN '6.12'\n",
      "    WHEN z BETWEEN 6.16 and 6.23 THEN '6.20'\n",
      "    WHEN z BETWEEN 6.23 and 6.30 THEN '6.27'\n",
      "    WHEN z BETWEEN 6.30 and 6.37 THEN '6.34'\n",
      "    WHEN z BETWEEN 6.37 and 6.44 THEN '6.41'\n",
      "    WHEN z BETWEEN 6.44 and 6.51 THEN '6.48'\n",
      "    WHEN z BETWEEN 6.51 and 6.58 THEN '6.55'\n",
      "    WHEN z BETWEEN 6.58 and 6.65 THEN '6.62'\n",
      "    WHEN z BETWEEN 6.65 and 6.72 THEN '6.69'\n",
      "    WHEN z BETWEEN 6.72 and 6.79 THEN '6.76'\n",
      "    WHEN z BETWEEN 6.79 and 6.86 THEN '6.83'\n",
      "    WHEN z BETWEEN 6.86 and 6.93 THEN '6.90'\n",
      "    WHEN z BETWEEN 6.93 and 7.00 THEN '6.97'\n",
      "    ELSE '> 7.0'\n",
      "  END AS bin\n",
      "  FROM SpecObj\n",
      "  WHERE class='QSO'\n",
      "  AND zWarning=0) temp\n",
      "GROUP BY temp.bin\n",
      "ORDER by temp.bin\n"
     ]
    }
   ],
   "source": [
    "num_bins = 100\n",
    "min_x = 0\n",
    "max_x = 7.0\n",
    "delta_x = (max_x-min_x)/num_bins\n",
    "\n",
    "print(\"SELECT temp.bin, COUNT(*)\")\n",
    "print(\"FROM (\")\n",
    "print(\"  SELECT CASE\")\n",
    "\n",
    "for i in range(num_bins):\n",
    "    left_x = i*delta_x\n",
    "    right_x = (i+1)*delta_x\n",
    "    average_x = (left_x+right_x)/2\n",
    "    print(\"    WHEN z BETWEEN {0:.2f} and {1:.2f} THEN ' {0:.2f} - {1:.2f}'\".format(left_x, right_x))\n",
    "\n",
    "print(\"    ELSE '> 7.0'\")\n",
    "print(\"  END AS bin\")\n",
    "print(\"  FROM SpecObj\")\n",
    "print(\"  WHERE class='QSO'\")\n",
    "print(\"  AND zWarning=0) temp\")\n",
    "print(\"GROUP BY temp.bin\")\n",
    "print(\"ORDER by temp.bin\")"
   ]
  },
  {
   "cell_type": "markdown",
   "metadata": {},
   "source": [
    "Copy & Paste the query into the Skyserver SQL search; and export the result to a CSV-file such that it can be loaded into a spreadsheet program: "
   ]
  },
  {
   "cell_type": "markdown",
   "metadata": {},
   "source": [
    "## Method 2"
   ]
  },
  {
   "cell_type": "markdown",
   "metadata": {},
   "source": [
    "Import the query output file:"
   ]
  },
  {
   "cell_type": "code",
   "execution_count": 18,
   "metadata": {
    "collapsed": false
   },
   "outputs": [],
   "source": [
    "# Read the data file into a dataframe using pandas\n",
    "qsoData = pd.read_csv('./Activity3.2.3/Output2.txt', skiprows=1)"
   ]
  },
  {
   "cell_type": "markdown",
   "metadata": {},
   "source": [
    "Plot the distribution:"
   ]
  },
  {
   "cell_type": "code",
   "execution_count": 19,
   "metadata": {
    "collapsed": false
   },
   "outputs": [],
   "source": [
    "num_bins = 100\n",
    "# the histogram of the data\n",
    "#n, bins, patches = plt.hist(x, num_bins, normed=1, facecolor='green', alpha=0.5)\n",
    "\n",
    "# Plot graph using matplotlib\n",
    "fig = plt.figure()\n",
    "ax0 = fig.add_subplot(1, 1, 1)\n",
    "\n",
    "ax0.hist(qsoData['z'], num_bins, facecolor='blue', alpha=0.5)\n",
    "ax0.set_title('The redshift distribution of QSOs in the SDSS')\n",
    "\n",
    "ax0.set_xlim(-1.0, 7.5)\n",
    "\n",
    "ax0.set_xlabel('Redshift $z$')\n",
    "ax0.set_ylabel('Number of quasars $n$')\n",
    "\n",
    "# Create a grid\n",
    "ax0.grid(True)\n",
    "\n",
    "# Set the tick marks\n",
    "xMinorLocator = tic.AutoMinorLocator(5)\n",
    "ax0.xaxis.set_minor_locator(xMinorLocator)\n",
    "\n",
    "yMinorLocator = tic.AutoMinorLocator(5)\n",
    "ax0.yaxis.set_minor_locator(yMinorLocator)\n",
    "\n",
    "ax0.tick_params(which = 'both', direction = 'in')\n",
    "\n",
    "plt.show()"
   ]
  }
 ],
 "metadata": {
  "kernelspec": {
   "display_name": "Python 3",
   "language": "python",
   "name": "python3"
  },
  "language_info": {
   "codemirror_mode": {
    "name": "ipython",
    "version": 3
   },
   "file_extension": ".py",
   "mimetype": "text/x-python",
   "name": "python",
   "nbconvert_exporter": "python",
   "pygments_lexer": "ipython3",
   "version": "3.4.3"
  }
 },
 "nbformat": 4,
 "nbformat_minor": 0
}
