{
 "cells": [
  {
   "cell_type": "markdown",
   "metadata": {},
   "source": [
    "# Activity 3.2.3 – The redshift distribution of QSOs in the SDSS"
   ]
  },
  {
   "cell_type": "markdown",
   "metadata": {},
   "source": [
    "Import libraries:"
   ]
  },
  {
   "cell_type": "code",
   "execution_count": 19,
   "metadata": {
    "collapsed": true
   },
   "outputs": [],
   "source": [
    "import math\n",
    "import numpy as np\n",
    "import pandas as pd\n",
    "import matplotlib.pyplot as plt\n",
    "import matplotlib.ticker as tic\n",
    "import itertools as it"
   ]
  },
  {
   "cell_type": "markdown",
   "metadata": {},
   "source": [
    "## Build query"
   ]
  },
  {
   "cell_type": "markdown",
   "metadata": {},
   "source": [
    "First we write a small python routine so we can create a suitable SQL query based on the desired number of bins we want:"
   ]
  },
  {
   "cell_type": "code",
   "execution_count": 10,
   "metadata": {
    "collapsed": false
   },
   "outputs": [
    {
     "name": "stdout",
     "output_type": "stream",
     "text": [
      "SELECT TOP 1 specObjID, bestObjId, z\n",
      "FROM SpecObj\n",
      "WHERE class='QSO'\n",
      "AND bestObjId>0\n",
      "AND zWarning=0\n",
      "AND z BETWEEN 0.29 AND 0.31\n",
      "UNION\n",
      "SELECT TOP 1 specObjID, bestObjId, z\n",
      "FROM SpecObj\n",
      "WHERE class='QSO'\n",
      "AND bestObjId>0\n",
      "AND zWarning=0\n",
      "AND z BETWEEN 0.59 AND 0.61\n",
      "UNION\n",
      "SELECT TOP 1 specObjID, bestObjId, z\n",
      "FROM SpecObj\n",
      "WHERE class='QSO'\n",
      "AND bestObjId>0\n",
      "AND zWarning=0\n",
      "AND z BETWEEN 0.89 AND 0.91\n",
      "UNION\n",
      "SELECT TOP 1 specObjID, bestObjId, z\n",
      "FROM SpecObj\n",
      "WHERE class='QSO'\n",
      "AND bestObjId>0\n",
      "AND zWarning=0\n",
      "AND z BETWEEN 1.19 AND 1.21\n",
      "UNION\n",
      "SELECT TOP 1 specObjID, bestObjId, z\n",
      "FROM SpecObj\n",
      "WHERE class='QSO'\n",
      "AND bestObjId>0\n",
      "AND zWarning=0\n",
      "AND z BETWEEN 1.49 AND 1.51\n",
      "UNION\n",
      "SELECT TOP 1 specObjID, bestObjId, z\n",
      "FROM SpecObj\n",
      "WHERE class='QSO'\n",
      "AND bestObjId>0\n",
      "AND zWarning=0\n",
      "AND z BETWEEN 1.79 AND 1.81\n",
      "UNION\n",
      "SELECT TOP 1 specObjID, bestObjId, z\n",
      "FROM SpecObj\n",
      "WHERE class='QSO'\n",
      "AND bestObjId>0\n",
      "AND zWarning=0\n",
      "AND z BETWEEN 2.09 AND 2.11\n",
      "UNION\n",
      "SELECT TOP 1 specObjID, bestObjId, z\n",
      "FROM SpecObj\n",
      "WHERE class='QSO'\n",
      "AND bestObjId>0\n",
      "AND zWarning=0\n",
      "AND z BETWEEN 2.39 AND 2.41\n",
      "UNION\n",
      "SELECT TOP 1 specObjID, bestObjId, z\n",
      "FROM SpecObj\n",
      "WHERE class='QSO'\n",
      "AND bestObjId>0\n",
      "AND zWarning=0\n",
      "AND z BETWEEN 2.69 AND 2.71\n",
      "UNION\n",
      "SELECT TOP 1 specObjID, bestObjId, z\n",
      "FROM SpecObj\n",
      "WHERE class='QSO'\n",
      "AND bestObjId>0\n",
      "AND zWarning=0\n",
      "AND z BETWEEN 2.99 AND 3.01\n",
      "ORDER BY z\n"
     ]
    }
   ],
   "source": [
    "num_bins = 10\n",
    "min_x = 0\n",
    "max_x = 3.0\n",
    "delta_x = (max_x-min_x)/num_bins\n",
    "\n",
    "for i in range(1, num_bins):\n",
    "    left_x = i*delta_x - 0.01\n",
    "    right_x = i*delta_x + 0.01\n",
    "\n",
    "    print(\"SELECT TOP 1 specObjID, bestObjId, z\")\n",
    "    print(\"FROM SpecObj\")\n",
    "    print(\"WHERE class='QSO'\")\n",
    "    print(\"AND bestObjId>0\")\n",
    "    print(\"AND zWarning=0\")\n",
    "    print(\"AND z BETWEEN {0:.2f} AND {1:.2f}\".format(left_x, right_x))\n",
    "    print(\"UNION\")\n",
    "\n",
    "i = num_bins\n",
    "left_x = i*delta_x - 0.01\n",
    "right_x = i*delta_x + 0.01\n",
    "print(\"SELECT TOP 1 specObjID, bestObjId, z\")\n",
    "print(\"FROM SpecObj\")\n",
    "print(\"WHERE class='QSO'\")\n",
    "print(\"AND bestObjId>0\")\n",
    "print(\"AND zWarning=0\")\n",
    "print(\"AND z BETWEEN {0:.2f} AND {1:.2f}\".format(left_x, right_x))\n",
    "print(\"ORDER BY z\")"
   ]
  },
  {
   "cell_type": "markdown",
   "metadata": {},
   "source": [
    "Copy & Paste the query into the Skyserver SQL search; and export the result to a CSV-file such that it can be loaded into a spreadsheet program."
   ]
  },
  {
   "cell_type": "markdown",
   "metadata": {},
   "source": [
    "# Plot spectra"
   ]
  },
  {
   "cell_type": "markdown",
   "metadata": {},
   "source": [
    "Load the output file from the query:"
   ]
  },
  {
   "cell_type": "code",
   "execution_count": 8,
   "metadata": {
    "collapsed": false
   },
   "outputs": [],
   "source": [
    "# Read the query output file into a dataframe using pandas\n",
    "queryData = pd.read_csv('./Activity3.2.4/Output3.txt', skiprows=1)\n",
    "\n",
    "# Loop through the found quasars\n",
    "count = 0\n",
    "objectList = []\n",
    "redshiftList = []\n",
    "dataframeList = []\n",
    "for ObjId, z in zip(queryData['bestObjId'], queryData['z']):\n",
    "    count += 1\n",
    "    \n",
    "    # Open spectrum export for this quasar\n",
    "    filename = \"./Activity3.2.4/\" + str(ObjId)+\".txt\"\n",
    "    qsoData = pd.read_csv(filename, skiprows=0)\n",
    "    \n",
    "    # Add to object lists\n",
    "    objectList.append(ObjId)\n",
    "    redshiftList.append(z)\n",
    "    dataframeList.append(qsoData)"
   ]
  },
  {
   "cell_type": "markdown",
   "metadata": {},
   "source": [
    "Now create a single spectrum plots for all quasars:"
   ]
  },
  {
   "cell_type": "code",
   "execution_count": 14,
   "metadata": {
    "collapsed": false
   },
   "outputs": [],
   "source": [
    "# Create a figure with axes\n",
    "fig = plt.figure()\n",
    "ax0 = fig.add_subplot(1, 1, 1)\n",
    "\n",
    "# Plot data\n",
    "for objId, z, qsoData in zip(objectList, redshiftList, dataframeList):\n",
    "    labelText = str(objId) + \" [z = \" + str(z) + \"]\"\n",
    "    ax0.plot(qsoData['Wavelength'], qsoData['Flux'], label=labelText, linewidth = 1)\n",
    "\n",
    "# Set limits for axes\n",
    "ax0.set_xlim(3500,10500)\n",
    "#ax0.set_ylim(-1.0, 6.0)\n",
    "\n",
    "# Create labels for axes\n",
    "ax0.set_xlabel('Wavelength $\\lambda / \\AA$', fontsize='large')\n",
    "ax0.set_ylabel('Spectral flux density $f_{\\lambda} \\, / 10^{-17} erg \\, s^{-1} cm^{-2} \\AA^{-1}$', fontsize='large')\n",
    "\n",
    "# Create a title\n",
    "ax0.set_title('Spectral flux densities for selected quasars', fontsize='xx-large')\n",
    "\n",
    "# Display a grid\n",
    "ax0.grid(True)\n",
    "\n",
    "# Set the tick marks\n",
    "xMajorLocator = tic.MultipleLocator(500)\n",
    "xMinorLocator = tic.AutoMinorLocator(5)\n",
    "ax0.xaxis.set_major_locator(xMajorLocator)\n",
    "ax0.xaxis.set_minor_locator(xMinorLocator)\n",
    "\n",
    "yMinorLocator = tic.AutoMinorLocator(5)\n",
    "ax0.yaxis.set_minor_locator(yMinorLocator)\n",
    "\n",
    "ax0.tick_params(which = 'both', direction = 'in')\n",
    "\n",
    "# Create a legend\n",
    "legend = ax0.legend(loc='best', shadow=True)\n",
    "\n",
    "frame = legend.get_frame()\n",
    "frame.set_facecolor('0.90')\n",
    "\n",
    "for label in legend.get_texts():\n",
    "    label.set_fontsize('medium')\n",
    "\n",
    "for label in legend.get_lines():\n",
    "    label.set_linewidth(1.5)  # the legend line width\n",
    "\n",
    "# Display the plot\n",
    "plt.show()"
   ]
  },
  {
   "cell_type": "markdown",
   "metadata": {},
   "source": [
    "Separate plots:"
   ]
  },
  {
   "cell_type": "code",
   "execution_count": 23,
   "metadata": {
    "collapsed": false
   },
   "outputs": [],
   "source": [
    "# Create a figure with axes\n",
    "#fig = plt.figure()\n",
    "#ax0 = fig.add_subplot(1, 1, 1)\n",
    "num_cols = 2\n",
    "num_rows = count//num_cols + count%num_cols\n",
    "fig, axes = plt.subplots(num_rows, num_cols, sharex=True, sharey=True)\n",
    "\n",
    "# Flatten the axes list\n",
    "axes = list(it.chain(*axes))\n",
    "\n",
    "# Define major and minor tick marks\n",
    "xMajorLocator = tic.MultipleLocator(500)\n",
    "xMinorLocator = tic.AutoMinorLocator(5)\n",
    "yMinorLocator = tic.AutoMinorLocator(5)\n",
    "\n",
    "# Plot data\n",
    "count = 0\n",
    "for objId, z, qsoData in zip(objectList, redshiftList, dataframeList):\n",
    "    ax = axes[count]\n",
    "\n",
    "    labelText = str(objId) + \" [z = \" + str(z) + \"]\"\n",
    "    ax.plot(qsoData['Wavelength'], qsoData['Flux'], label=labelText, linewidth = 1)\n",
    "\n",
    "    # Set limits for axes\n",
    "    ax.set_xlim(3500,10500)\n",
    "    #ax.set_ylim(-1.0, 6.0)\n",
    "\n",
    "    # Create labels for axes\n",
    "    #ax.set_xlabel('Wavelength $\\lambda / \\AA$', fontsize='large')\n",
    "    #ax.set_ylabel('Spectral flux density $f_{\\lambda} \\, / 10^{-17} erg \\, s^{-1} cm^{-2} \\AA^{-1}$', fontsize='large')\n",
    "\n",
    "    # Create a title\n",
    "    ax.set_title('Spectral flux density for object ' + labelText, fontsize='small')\n",
    "\n",
    "    # Display a grid\n",
    "    ax.grid(True)\n",
    "\n",
    "    # Set the tick marks\n",
    "    ax.xaxis.set_major_locator(xMajorLocator)\n",
    "    ax.xaxis.set_minor_locator(xMinorLocator)\n",
    "    ax.yaxis.set_minor_locator(yMinorLocator)\n",
    "    ax.tick_params(which = 'both', direction = 'in')\n",
    "\n",
    "    # Next loop\n",
    "    count += 1\n",
    "\n",
    "# Display the plot\n",
    "plt.show()"
   ]
  }
 ],
 "metadata": {
  "kernelspec": {
   "display_name": "Python 3",
   "language": "python",
   "name": "python3"
  },
  "language_info": {
   "codemirror_mode": {
    "name": "ipython",
    "version": 3
   },
   "file_extension": ".py",
   "mimetype": "text/x-python",
   "name": "python",
   "nbconvert_exporter": "python",
   "pygments_lexer": "ipython3",
   "version": "3.4.3"
  }
 },
 "nbformat": 4,
 "nbformat_minor": 0
}
