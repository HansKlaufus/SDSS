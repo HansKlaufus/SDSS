{
 "cells": [
  {
   "cell_type": "markdown",
   "metadata": {},
   "source": [
    "# Spectrum"
   ]
  },
  {
   "cell_type": "markdown",
   "metadata": {},
   "source": [
    "For object 1237665128541782127"
   ]
  },
  {
   "cell_type": "code",
   "execution_count": 1,
   "metadata": {
    "collapsed": true
   },
   "outputs": [],
   "source": [
    "import math\n",
    "import numpy as np\n",
    "import pandas as pd\n",
    "import matplotlib.pyplot as plt\n",
    "import matplotlib.ticker as tic"
   ]
  },
  {
   "cell_type": "markdown",
   "metadata": {},
   "source": [
    "Import CSV-file:"
   ]
  },
  {
   "cell_type": "code",
   "execution_count": 2,
   "metadata": {
    "collapsed": false
   },
   "outputs": [],
   "source": [
    "# Read the data file into a dataframe using pandas\n",
    "dataframe = pd.read_csv('./Spectrum_1237665128541782127.csv')"
   ]
  },
  {
   "cell_type": "markdown",
   "metadata": {},
   "source": [
    "Plot the spectrum:"
   ]
  },
  {
   "cell_type": "code",
   "execution_count": 12,
   "metadata": {
    "collapsed": false
   },
   "outputs": [],
   "source": [
    "# Plot graph using matplotlib\n",
    "fig = plt.figure()\n",
    "\n",
    "ax0 = fig.add_subplot(1, 1, 1)\n",
    "\n",
    "ax0.plot(dataframe['Wavelength'], dataframe['Flux'], color='blue', linewidth = 1)\n",
    "ax0.plot(dataframe['Wavelength'], dataframe['BestFit'], color='red', linewidth = 1)\n",
    "\n",
    "ax0.set_xlabel('$\\lambda / \\AA$')\n",
    "ax0.set_ylabel('$f_{\\lambda} / 10^{-17} erg \\, s^{-1} cm^{-2} \\AA^{-1}$')\n",
    "\n",
    "ax0.set_title('Spectrum for object 1237665128541782127')\n",
    "ax0.grid(True)\n",
    "\n",
    "# Set the tick marks\n",
    "xMajorLocator = tic.MultipleLocator(500)\n",
    "xMinorLocator = tic.AutoMinorLocator(5)\n",
    "\n",
    "yMinorLocator = tic.AutoMinorLocator(5)\n",
    "\n",
    "ax0.xaxis.set_major_locator(xMajorLocator)\n",
    "ax0.xaxis.set_minor_locator(xMinorLocator)\n",
    "\n",
    "ax0.yaxis.set_minor_locator(yMinorLocator)\n",
    "\n",
    "# Set both ticks to be outside\n",
    "ax0.tick_params(which = 'both', direction = 'out')\n",
    "\n",
    "plt.show()"
   ]
  }
 ],
 "metadata": {
  "kernelspec": {
   "display_name": "Python 3",
   "language": "python",
   "name": "python3"
  },
  "language_info": {
   "codemirror_mode": {
    "name": "ipython",
    "version": 3
   },
   "file_extension": ".py",
   "mimetype": "text/x-python",
   "name": "python",
   "nbconvert_exporter": "python",
   "pygments_lexer": "ipython3",
   "version": "3.4.3"
  }
 },
 "nbformat": 4,
 "nbformat_minor": 0
}
