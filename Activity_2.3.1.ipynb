{
 "cells": [
  {
   "cell_type": "markdown",
   "metadata": {},
   "source": [
    "# Spectrum"
   ]
  },
  {
   "cell_type": "markdown",
   "metadata": {},
   "source": [
    "For object 1237665128541782127"
   ]
  },
  {
   "cell_type": "code",
   "execution_count": 2,
   "metadata": {
    "collapsed": true
   },
   "outputs": [],
   "source": [
    "import math\n",
    "import numpy as np\n",
    "import pandas as pd\n",
    "import matplotlib.pyplot as plt\n",
    "import matplotlib.ticker as tic"
   ]
  },
  {
   "cell_type": "markdown",
   "metadata": {},
   "source": [
    "Import CSV-file:"
   ]
  },
  {
   "cell_type": "code",
   "execution_count": 3,
   "metadata": {
    "collapsed": false
   },
   "outputs": [],
   "source": [
    "# Read the data file into a dataframe using pandas\n",
    "dataframe = pd.read_csv('./Activity2.3.1/Spectrum_1237665128541782127.csv')"
   ]
  },
  {
   "cell_type": "markdown",
   "metadata": {},
   "source": [
    "Plot the spectrum:"
   ]
  },
  {
   "cell_type": "code",
   "execution_count": 7,
   "metadata": {
    "collapsed": false
   },
   "outputs": [],
   "source": [
    "# Create a figure with axes\n",
    "fig = plt.figure()\n",
    "ax0 = fig.add_subplot(1, 1, 1)\n",
    "\n",
    "# Plot data\n",
    "ax0.plot(dataframe['Wavelength'], dataframe['Flux'], color='blue', label='Spectral flux density', linewidth = 1)\n",
    "#ax0.plot(dataframe['Wavelength'], dataframe['BestFit'], color='red', label='Best fit', linewidth = 1)\n",
    "\n",
    "# Set limits for axes\n",
    "ax0.set_xlim(3500,9500)\n",
    "#ax0.set_ylim(-1.0, 6.0)\n",
    "\n",
    "# Create labels for axes\n",
    "ax0.set_xlabel('Wavelength $\\lambda / \\AA$', fontsize='large')\n",
    "ax0.set_ylabel('Spectral flux density $f_{\\lambda} \\, / 10^{-17} erg \\, s^{-1} cm^{-2} \\AA^{-1}$', fontsize='large')\n",
    "\n",
    "# Create a title\n",
    "ax0.set_title('Spectral flux density for object 1237665128541782127', fontsize='xx-large')\n",
    "\n",
    "# Display a grid\n",
    "ax0.grid(True)\n",
    "\n",
    "# Set the tick marks\n",
    "xMajorLocator = tic.MultipleLocator(500)\n",
    "xMinorLocator = tic.AutoMinorLocator(5)\n",
    "ax0.xaxis.set_major_locator(xMajorLocator)\n",
    "ax0.xaxis.set_minor_locator(xMinorLocator)\n",
    "\n",
    "yMinorLocator = tic.AutoMinorLocator(5)\n",
    "ax0.yaxis.set_minor_locator(yMinorLocator)\n",
    "\n",
    "ax0.tick_params(which = 'both', direction = 'in')\n",
    "\n",
    "# Create a legend\n",
    "legend = ax0.legend(loc='best', shadow=True)\n",
    "\n",
    "frame = legend.get_frame()\n",
    "frame.set_facecolor('0.90')\n",
    "\n",
    "for label in legend.get_texts():\n",
    "    label.set_fontsize('medium')\n",
    "\n",
    "for label in legend.get_lines():\n",
    "    label.set_linewidth(1.5)  # the legend line width\n",
    "\n",
    "# Display the plot\n",
    "plt.show()"
   ]
  }
 ],
 "metadata": {
  "kernelspec": {
   "display_name": "Python 3",
   "language": "python",
   "name": "python3"
  },
  "language_info": {
   "codemirror_mode": {
    "name": "ipython",
    "version": 3
   },
   "file_extension": ".py",
   "mimetype": "text/x-python",
   "name": "python",
   "nbconvert_exporter": "python",
   "pygments_lexer": "ipython3",
   "version": "3.4.3"
  }
 },
 "nbformat": 4,
 "nbformat_minor": 0
}
